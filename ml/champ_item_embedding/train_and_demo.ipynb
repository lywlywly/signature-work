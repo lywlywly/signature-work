{
 "cells": [
  {
   "cell_type": "markdown",
   "id": "17949320",
   "metadata": {},
   "source": [
    "based on <https://www.d2l.ai/chapter_natural-language-processing-pretraining/word2vec-pretraining.html>\n",
    "\n",
    "Environment\n",
    "\n",
    "* WSL2 Ubuntu22.04.02 LTS\n",
    "* Python 3.10.14\n",
    "* CUDA 12.1\n",
    "* torch 2.2.2\n",
    "\n",
    "torch 1.12.0 with Python 3.9 is also tested"
   ]
  },
  {
   "cell_type": "code",
   "execution_count": 1,
   "id": "d6a5ca81",
   "metadata": {
    "execution": {
     "iopub.execute_input": "2023-02-10T05:10:06.342971Z",
     "iopub.status.busy": "2023-02-10T05:10:06.342650Z",
     "iopub.status.idle": "2023-02-10T05:10:33.677217Z",
     "shell.execute_reply": "2023-02-10T05:10:33.675583Z"
    },
    "origin_pos": 2,
    "tab": [
     "pytorch"
    ]
   },
   "outputs": [],
   "source": [
    "import json\n",
    "\n",
    "import matplotlib.pyplot as plt\n",
    "import numpy as np\n",
    "from champ_item_embedding import *"
   ]
  },
  {
   "cell_type": "code",
   "execution_count": 2,
   "id": "a50dfd0b",
   "metadata": {
    "execution": {
     "iopub.execute_input": "2023-02-10T05:10:33.781424Z",
     "iopub.status.busy": "2023-02-10T05:10:33.781114Z",
     "iopub.status.idle": "2023-02-10T05:10:33.788698Z",
     "shell.execute_reply": "2023-02-10T05:10:33.787864Z"
    },
    "origin_pos": 16,
    "tab": [
     "pytorch"
    ]
   },
   "outputs": [],
   "source": [
    "loss = SigmoidBCELoss()\n",
    "net = build_net()\n",
    "dataloader = build_dataloader()"
   ]
  },
  {
   "cell_type": "code",
   "execution_count": 3,
   "id": "1d049662",
   "metadata": {},
   "outputs": [
    {
     "name": "stdout",
     "output_type": "stream",
     "text": [
      "1\n",
      "2\n",
      "3\n",
      "4\n",
      "5\n",
      "6\n",
      "7\n",
      "8\n",
      "9\n",
      "10\n"
     ]
    }
   ],
   "source": [
    "losses = train(net, dataloader, loss)"
   ]
  },
  {
   "cell_type": "code",
   "execution_count": 4,
   "id": "5650cd58",
   "metadata": {},
   "outputs": [],
   "source": [
    "file_path = \"champ_item_embedding.pth\"\n",
    "torch.save(net.state_dict(), file_path)"
   ]
  },
  {
   "cell_type": "code",
   "execution_count": 5,
   "id": "d9eea47b",
   "metadata": {},
   "outputs": [
    {
     "data": {
      "text/plain": [
       "<All keys matched successfully>"
      ]
     },
     "execution_count": 5,
     "metadata": {},
     "output_type": "execute_result"
    }
   ],
   "source": [
    "net = build_net()\n",
    "net.load_state_dict(torch.load(file_path))"
   ]
  },
  {
   "cell_type": "code",
   "execution_count": 6,
   "id": "7275174d",
   "metadata": {},
   "outputs": [
    {
     "data": {
      "image/png": "[encoded data removed]",
      "text/plain": [
       "<Figure size 640x480 with 1 Axes>"
      ]
     },
     "metadata": {},
     "output_type": "display_data"
    }
   ],
   "source": [
    "plt.plot(np.arange(len(losses)) + 1, losses)\n",
    "plt.title(\"Champ-item Embedding Training Result\")\n",
    "plt.ylabel(\"Loss\")\n",
    "plt.xlabel(\"Epoch\")\n",
    "plt.savefig(\"champ-item_embedding_training_result.pdf\", bbox_inches=\"tight\")"
   ]
  },
  {
   "cell_type": "code",
   "execution_count": 7,
   "id": "3a4a1d16",
   "metadata": {},
   "outputs": [],
   "source": [
    "with open(\"idx2item.json\", \"r\") as f:\n",
    "    idx2item = json.load(f)\n",
    "with open(\"idx2champ.json\", \"r\") as f:\n",
    "    idx2champ = json.load(f)"
   ]
  },
  {
   "cell_type": "code",
   "execution_count": 8,
   "id": "9d21d4bf",
   "metadata": {},
   "outputs": [
    {
     "name": "stdout",
     "output_type": "stream",
     "text": [
      "cosine sim=1.000: Aatrox\n",
      "cosine sim=0.995: Samira\n",
      "cosine sim=0.994: Lee Sin\n",
      "cosine sim=0.993: Bel'Veth\n",
      "cosine sim=0.993: Kled\n",
      "cosine sim=0.991: Briar\n",
      "cosine sim=0.991: Nocturne\n",
      "cosine sim=0.991: Xin Zhao\n",
      "cosine sim=0.990: Vi\n",
      "cosine sim=0.990: Naafiri\n"
     ]
    }
   ],
   "source": [
    "W1 = net[0].weight.data\n",
    "W2 = net[1].weight.data\n",
    "\n",
    "first = W1[0]\n",
    "cos = torch.mv(W1, first) / torch.sqrt(\n",
    "    torch.sum(W1 * W1, dim=1) * torch.sum(first * first) + 1e-9\n",
    ")\n",
    "\n",
    "topk = torch.topk(cos, ITEM_SIZE)[1].cpu().numpy().astype(\"int32\")\n",
    "for i in topk[:10]:\n",
    "    print(f\"cosine sim={float(cos[i]):.3f}: {idx2champ[str(i)]}\")"
   ]
  },
  {
   "cell_type": "code",
   "execution_count": 9,
   "id": "e0688f64",
   "metadata": {},
   "outputs": [
    {
     "name": "stdout",
     "output_type": "stream",
     "text": [
      "cosine sim=1.000: Thornmail\n",
      "cosine sim=0.988: Spirit Visage\n",
      "cosine sim=0.986: Bramble Vest\n",
      "cosine sim=0.982: Sunfire Aegis\n",
      "cosine sim=0.982: Kaenic Rookern\n",
      "cosine sim=0.980: Force of Nature\n",
      "cosine sim=0.979: Dead Man's Plate\n",
      "cosine sim=0.978: Randuin's Omen\n",
      "cosine sim=0.978: Frozen Heart\n",
      "cosine sim=0.976: Jak'Sho, The Protean\n"
     ]
    }
   ],
   "source": [
    "W1 = net[0].weight.data\n",
    "W2 = net[1].weight.data\n",
    "\n",
    "first = W2[122]\n",
    "cos = torch.mv(W2, first) / torch.sqrt(\n",
    "    torch.sum(W2 * W2, dim=1) * torch.sum(first * first) + 1e-9\n",
    ")\n",
    "\n",
    "topk = torch.topk(cos, ITEM_SIZE)[1].cpu().numpy().astype(\"int32\")\n",
    "for i in topk[:10]:\n",
    "    print(f\"cosine sim={float(cos[i]):.3f}: {idx2item[str(i)]}\")"
   ]
  },
  {
   "cell_type": "code",
   "execution_count": 10,
   "id": "a3a89aa6",
   "metadata": {},
   "outputs": [
    {
     "name": "stdout",
     "output_type": "stream",
     "text": [
      "cosine sim=0.995: Eclipse\n",
      "cosine sim=0.995: Stridebreaker\n",
      "cosine sim=0.994: Serrated Dirk\n",
      "cosine sim=0.993: Death's Dance\n",
      "cosine sim=0.992: Executioner's Calling\n",
      "cosine sim=0.991: Ravenous Hydra\n",
      "cosine sim=0.990: Spear of Shojin\n",
      "cosine sim=0.990: Edge of Night\n",
      "cosine sim=0.990: B. F. Sword\n",
      "cosine sim=0.987: Profane Hydra\n",
      "cosine sim=0.986: Guardian Angel\n",
      "cosine sim=0.986: Chempunk Chainsword\n",
      "cosine sim=0.986: Youmuu's Wake\n",
      "cosine sim=0.986: Black Cleaver\n",
      "cosine sim=0.985: Serpent's Fang\n",
      "cosine sim=0.985: Maw of Malmortius\n",
      "cosine sim=0.985: Hullbreaker\n",
      "cosine sim=0.985: Tiamat\n",
      "cosine sim=0.984: Sundered Sky\n",
      "cosine sim=0.984: Opportunity\n"
     ]
    }
   ],
   "source": [
    "W1 = net[0].weight.data\n",
    "W2 = net[1].weight.data\n",
    "\n",
    "first = W1[0]\n",
    "cos = torch.mv(W2, first) / torch.sqrt(\n",
    "    torch.sum(W2 * W2, dim=1) * torch.sum(first * first) + 1e-9\n",
    ")\n",
    "\n",
    "topk = torch.topk(cos, ITEM_SIZE)[1].cpu().numpy().astype(\"int32\")\n",
    "for i in topk[:20]:\n",
    "    print(f\"cosine sim={float(cos[i]):.3f}: {idx2item[str(i)]}\")"
   ]
  },
  {
   "cell_type": "code",
   "execution_count": null,
   "id": "a436840e",
   "metadata": {},
   "outputs": [],
   "source": []
  }
 ],
 "metadata": {
  "kernelspec": {
   "display_name": "d2l",
   "language": "python",
   "name": "python3"
  },
  "language_info": {
   "codemirror_mode": {
    "name": "ipython",
    "version": 3
   },
   "file_extension": ".py",
   "mimetype": "text/x-python",
   "name": "python",
   "nbconvert_exporter": "python",
   "pygments_lexer": "ipython3",
   "version": "3.10.14"
  }
 },
 "nbformat": 4,
 "nbformat_minor": 5
}
